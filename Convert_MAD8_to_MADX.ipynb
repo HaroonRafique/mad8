{
 "cells": [
  {
   "cell_type": "markdown",
   "metadata": {},
   "source": [
    "# Python script to convert MAD-8 input files to MAD-X format"
   ]
  },
  {
   "cell_type": "code",
   "execution_count": 1,
   "metadata": {},
   "outputs": [],
   "source": [
    "import os"
   ]
  },
  {
   "cell_type": "code",
   "execution_count": 2,
   "metadata": {},
   "outputs": [],
   "source": [
    "def check_if_file_exists(name):\n",
    "    ret_val = False\n",
    "    if os.path.isfile(name):\n",
    "        ret_val = True\n",
    "    return ret_val"
   ]
  },
  {
   "cell_type": "code",
   "execution_count": 3,
   "metadata": {},
   "outputs": [],
   "source": [
    "def string_to_chars(word):\n",
    "    return [char for char in word]"
   ]
  },
  {
   "cell_type": "code",
   "execution_count": 4,
   "metadata": {},
   "outputs": [],
   "source": [
    "def convert_mad8_to_madx(inpath, mad8file, outpath=None, madxfile=None):\n",
    "\n",
    "    if madxfile is None:  madxfile = mad8file + '.madx'\n",
    "    if outpath is None:   outpath = inpath\n",
    "    if outpath is inpath and madxfile is mad8file:\n",
    "        print('ERROR: MAD-8 to MAD-X Conversion: input and output file have the same name: Exiting')\n",
    "        exit(0)\n",
    "        \n",
    "    mad8file = inpath + mad8file\n",
    "    madxfile = outpath + madxfile\n",
    "    \n",
    "    if check_if_file_exists(madxfile):\n",
    "        print(madxfile, ' already exists, deleting')\n",
    "        os.remove(madxfile)\n",
    "    f8 = open(mad8file, 'r')\n",
    "    lines = []\n",
    "    twiss_counter = 0\n",
    "    \n",
    "    infile = open(mad8file)\n",
    "    linelist = infile.readlines()\n",
    "    file_len = len(linelist)\n",
    "    \n",
    "    skip_lines = []\n",
    "    \n",
    "    # Using readlines we can manually iterate over the lines and thus skip lines at need\n",
    "    for i in range(0,file_len,1):\n",
    "        if i in skip_lines:\n",
    "            pass\n",
    "        else:\n",
    "            line = linelist[i]\n",
    "            \n",
    "            if line.startswith('!'):\n",
    "                #line += '\\n'\n",
    "                lines.append(line)\n",
    "                pass\n",
    "            \n",
    "            else:\n",
    "                if not line.isspace():\n",
    "                    # Handle calling of other files - case sensitive - don't use .lower() if it is a file call as filenames are case sensitive\n",
    "                    if 'call,' in line:\n",
    "                        line = line.strip()                    \n",
    "                        line = line.replace('call,', 'call,file=')\n",
    "                    elif 'CALL,' in line:\n",
    "                        line = line.strip()                    \n",
    "                        line = line.replace('CALL,', 'CALL,FILE=')\n",
    "                    else:\n",
    "                        line = line.lower().strip()            \n",
    "\n",
    "                    # SPECIAL CASE - MULTIPOLE definition\n",
    "                    # Note that MAD8 uses KnL with tilts as Tn\n",
    "                    # MADX uses KnL and KnS for normal and skew components\n",
    "                    # Here we assume no tilts in MAD8 (thus no skew components in MAD-X)\n",
    "                    if 'multipole' in line:\n",
    "                        N_poles = []\n",
    "                        N_pole_val = []\n",
    "                        #S_poles = []\n",
    "                        #S_pole_val = []\n",
    "                        line_multi = ''\n",
    "\n",
    "                        # first check if we have a multiple line definition\n",
    "                        if line.endswith('&'):\n",
    "                            # Reduce all lines in the multipole definition to one for processing\n",
    "\n",
    "                            #print('multipole')\n",
    "                            multi_def = True\n",
    "                            while multi_def:\n",
    "                                if '&' not in line : multi_def = False\n",
    "                                line = line.strip('\\n')\n",
    "                                line = line.strip('\\t')\n",
    "                                line = line.strip(' ')\n",
    "                                line = line.strip('&')\n",
    "                                line_multi = line_multi + line\n",
    "                                skip_lines.append(i)\n",
    "                                i+=1\n",
    "                                line = linelist[i]\n",
    "                                line = line.lower().strip()\n",
    "                            line_multi = line_multi.strip('&')\n",
    "                            line_multi = line_multi.strip('\\n')\n",
    "                            line_multi = line_multi.strip('\\t')\n",
    "                            line_multi = line_multi.strip(' ')\n",
    "                            line_multi = line_multi.replace(' ', '')\n",
    "                            line_multi = line_multi.replace('\\t', '')\n",
    "                            #print(line_multi)           \n",
    "\n",
    "                        multiline = line_multi.split(',')\n",
    "                        multi_name = multiline[0].replace(':', ' : ')\n",
    "                        #print(multi_name)                \n",
    "                        madx_multi_line = multi_name\n",
    "\n",
    "                        for ml in multiline:\n",
    "                            if '=' in ml:\n",
    "                                multi_def = ml.split('=')\n",
    "                                #print(multi_def)\n",
    "\n",
    "                                if 'l' in multi_def[0]:\n",
    "                                    for s in string_to_chars(multi_def[0]): \n",
    "                                        if s.isdigit():\n",
    "                                            N_poles.append(int(s))\n",
    "                                    N_pole_val.append(str(multi_def[1]))\n",
    "                                #elif 's' in multi_def[0]:\n",
    "                                    #for s in string_to_chars(multi_def[0]): \n",
    "                                        #if s.isdigit():\n",
    "                                            #S_poles.append(int(s))\n",
    "                                    #S_pole_val.append(str(multi_def[1]))\n",
    "                                else:\n",
    "                                    print('ERROR: MAD-8 to MAD-X Conversion: Multipole not as expected')\n",
    "                                    print(line)\n",
    "                                    exit(0)\n",
    "\n",
    "                        #print(N_poles)\n",
    "                        #print(N_pole_val)\n",
    "\n",
    "                        madx_multi_line = madx_multi_line + ', knl={'\n",
    "\n",
    "                        N_pole_it = 0\n",
    "                        for i in range(0,11,1):\n",
    "                            if i in N_poles:\n",
    "                                madx_multi_line = madx_multi_line + N_pole_val[N_pole_it] + ', '\n",
    "                                N_pole_it+=1\n",
    "                            else:\n",
    "                                madx_multi_line = madx_multi_line + '0, '\n",
    "\n",
    "                        madx_multi_line = madx_multi_line.strip()[:-1]\n",
    "                        madx_multi_line += '}'\n",
    "                        lines.append(madx_multi_line)         \n",
    "\n",
    "                    \n",
    "                    # SPECIAL CASE - VARY\n",
    "                    if 'vary' in line:\n",
    "                        line = line.replace('vary,', 'vary, name=')\n",
    "                    \n",
    "                    # SPECIAL CASE - CONSTRAINT - may need manual inspection if range/seq not obvious\n",
    "                    if 'constraint' in line:\n",
    "                        if '#e' in line.split(',')[1]:\n",
    "                            line = line.replace('#e', 'range=#e')\n",
    "                        else:\n",
    "                            line = line.replace('constraint,', 'constraint, sequence=')                            \n",
    "                                               \n",
    "                    # Handle line endings\n",
    "                    if line.endswith('&'):\n",
    "                        line = line[:-1]\n",
    "                    else:\n",
    "                        if '!' in line: # line with a comment in - assume only one !\n",
    "                            commented_line = line.split('!')\n",
    "                            line = commented_line[0] + '; !' + commented_line[1] + '\\n'\n",
    "                        else:\n",
    "                            line += ';\\n'\n",
    "\n",
    "                    # SPECIAL CASE - need to iterate twiss counter to stop overwriting of twiss file\n",
    "                    if 'twiss,save' in line:\n",
    "                        line = line.replace('twiss,save', \"twiss,file=twiss_\"+str(twiss_counter)+\".out'\" + \", sectormap, sectorfile='rcs_set_\"+str(twiss_counter)+\".map'\")\n",
    "                        twiss_counter+=1\n",
    "\n",
    "                    # Change [] access to ->\n",
    "                    if '[' and ']' in line:\n",
    "                        line = line.replace('[', '->')\n",
    "                        line = line.replace(']', '')\n",
    "\n",
    "                    line = line.replace('quad', 'quadrupole')\n",
    "                    line = line.replace('line', 'line=')\n",
    "                    line = line.replace('spline=', 'interpolate')\n",
    "                    line = line.replace('use,', 'use, sequence=')\n",
    "                    line = line.replace('filename', 'file')\n",
    "                    line = line.replace('mad', outpath + 'mad')\n",
    "                    \n",
    "                    if line.startswith(\"print\"): line = '!' + line\n",
    "                    if 'optics' in line: line = '!' + line\n",
    "                lines.append(line)\n",
    "            \n",
    "    with open(madxfile, 'x') as fx:\n",
    "        for line in lines:\n",
    "            fx.write(line)"
   ]
  },
  {
   "cell_type": "code",
   "execution_count": 5,
   "metadata": {},
   "outputs": [],
   "source": [
    "madfile = 'ISIS_II_EHRCS.mad8'\n",
    "madfile2 = 'ISIS_II_EHRCS.madx'\n",
    "elfile = 'ISIS_II_EHRCS.elements'\n",
    "strfile = 'ISIS_II_EHRCS.strength'\n",
    "seqfile = 'ISIS_II_EHRCS.sequence'\n",
    "beamfile = 'ISIS_II_EHRCS.beam'\n",
    "inpath = '../00_Lattice_Files/Master_Lattice_Files/MAD8/'\n",
    "\n",
    "outpath = './MADX_Test/'"
   ]
  },
  {
   "cell_type": "code",
   "execution_count": 6,
   "metadata": {},
   "outputs": [
    {
     "name": "stdout",
     "output_type": "stream",
     "text": [
      "./MADX_Test/ISIS_II_EHRCS.madx  already exists, deleting\n"
     ]
    }
   ],
   "source": [
    "convert_mad8_to_madx(inpath, madfile, outpath, madfile2)"
   ]
  },
  {
   "cell_type": "code",
   "execution_count": 7,
   "metadata": {},
   "outputs": [
    {
     "name": "stdout",
     "output_type": "stream",
     "text": [
      "./MADX_Test/ISIS_II_EHRCS.elements  already exists, deleting\n"
     ]
    }
   ],
   "source": [
    "convert_mad8_to_madx(inpath, elfile, outpath, elfile)"
   ]
  },
  {
   "cell_type": "code",
   "execution_count": 8,
   "metadata": {},
   "outputs": [
    {
     "name": "stdout",
     "output_type": "stream",
     "text": [
      "./MADX_Test/ISIS_II_EHRCS.strength  already exists, deleting\n"
     ]
    }
   ],
   "source": [
    "convert_mad8_to_madx(inpath, strfile, outpath, strfile)"
   ]
  },
  {
   "cell_type": "code",
   "execution_count": 9,
   "metadata": {},
   "outputs": [
    {
     "name": "stdout",
     "output_type": "stream",
     "text": [
      "./MADX_Test/ISIS_II_EHRCS.sequence  already exists, deleting\n"
     ]
    }
   ],
   "source": [
    "convert_mad8_to_madx(inpath, seqfile, outpath, seqfile)"
   ]
  },
  {
   "cell_type": "code",
   "execution_count": 10,
   "metadata": {},
   "outputs": [
    {
     "name": "stdout",
     "output_type": "stream",
     "text": [
      "./MADX_Test/ISIS_II_EHRCS.beam  already exists, deleting\n"
     ]
    }
   ],
   "source": [
    "convert_mad8_to_madx(inpath, beamfile, outpath, beamfile)"
   ]
  },
  {
   "cell_type": "code",
   "execution_count": null,
   "metadata": {},
   "outputs": [],
   "source": []
  }
 ],
 "metadata": {
  "kernelspec": {
   "display_name": "Python 3",
   "language": "python",
   "name": "python3"
  },
  "language_info": {
   "codemirror_mode": {
    "name": "ipython",
    "version": 3
   },
   "file_extension": ".py",
   "mimetype": "text/x-python",
   "name": "python",
   "nbconvert_exporter": "python",
   "pygments_lexer": "ipython3",
   "version": "3.9.5"
  }
 },
 "nbformat": 4,
 "nbformat_minor": 4
}
